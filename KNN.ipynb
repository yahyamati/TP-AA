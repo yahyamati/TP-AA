{
 "cells": [
  {
   "cell_type": "code",
   "execution_count": 1,
   "metadata": {},
   "outputs": [],
   "source": [
    "# from sklearn.neighbors import KNeighborsClassifier\n",
    "from sklearn.feature_extraction.text import CountVectorizer\n",
    "import numpy as np\n",
    "from scipy.spatial.distance import cdist\n",
    "from collections import Counter\n",
    "import Levenshtein\n",
    "\n",
    "def levenshtein_distance(word1, word2):\n",
    "    return Levenshtein.distance(word1, word2)"
   ]
  },
  {
   "cell_type": "code",
   "execution_count": 2,
   "metadata": {},
   "outputs": [],
   "source": [
    "# Liste des mots dans chaque classe\n",
    "classe1 = [\"lune\", \"mer\", \"maladie\", \"obscurité\", \"tempête\", \"épidémie\"]  # Féminin\n",
    "classe2 = [\"soleil\", \"ciel\", \"bateau\", \"avion\", \"parfum\", \"sable\"]  # Masculin\n",
    "\n",
    "# Associer chaque mot à son label (0 pour Féminin, 1 pour Masculin)\n",
    "train_data = classe1 + classe2\n",
    "labels = [0] * len(classe1) + [1] * len(classe2)"
   ]
  },
  {
   "cell_type": "code",
   "execution_count": 3,
   "metadata": {},
   "outputs": [],
   "source": [
    "test_data = [\"Orage\", \"Odeur\", \"train\", \"voiture\"]"
   ]
  },
  {
   "cell_type": "code",
   "execution_count": 4,
   "metadata": {},
   "outputs": [
    {
     "name": "stdout",
     "output_type": "stream",
     "text": [
      "Le mot 'Orage' est classé comme : Féminin\n",
      "Le mot 'Odeur' est classé comme : Masculin\n",
      "Le mot 'train' est classé comme : Féminin\n",
      "Le mot 'voiture' est classé comme : Féminin\n"
     ]
    }
   ],
   "source": [
    "# Fonction pour prédire la classe d'un mot en fonction des K voisins les plus proches\n",
    "def predict_class(test_word, k=3):\n",
    "    # Calculer les distances entre le mot de test et chaque mot d'entraînement\n",
    "    distances = [levenshtein_distance(test_word, word) for word in train_data]\n",
    "    \n",
    "    # Obtenir les indices des K plus petites distances\n",
    "    k_nearest_indices = np.argsort(distances)[:k]\n",
    "    # print(k_nearest_indices)\n",
    "    # Obtenir les labels des K voisins les plus proches\n",
    "    k_nearest_labels = [labels[i] for i in k_nearest_indices]\n",
    "    # print(k_nearest_labels)\n",
    "\n",
    "    # Retourner la classe majoritaire parmi les K voisins\n",
    "    predicted_class = Counter(k_nearest_labels).most_common(1)[0][0]\n",
    "\n",
    "    return predicted_class\n",
    "\n",
    "# Prédire la classe pour chaque mot de test\n",
    "for word in test_data:\n",
    "    predicted = predict_class(word)\n",
    "    classe = \"Féminin\" if predicted == 0 else \"Masculin\"\n",
    "    print(f\"Le mot '{word}' est classé comme : {classe}\")"
   ]
  }
 ],
 "metadata": {
  "kernelspec": {
   "display_name": "Python 3",
   "language": "python",
   "name": "python3"
  },
  "language_info": {
   "codemirror_mode": {
    "name": "ipython",
    "version": 3
   },
   "file_extension": ".py",
   "mimetype": "text/x-python",
   "name": "python",
   "nbconvert_exporter": "python",
   "pygments_lexer": "ipython3",
   "version": "3.12.2"
  }
 },
 "nbformat": 4,
 "nbformat_minor": 2
}
